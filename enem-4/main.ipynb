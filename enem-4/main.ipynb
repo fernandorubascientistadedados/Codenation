{
 "metadata": {
  "language_info": {
   "codemirror_mode": {
    "name": "ipython",
    "version": 3
   },
   "file_extension": ".py",
   "mimetype": "text/x-python",
   "name": "python",
   "nbconvert_exporter": "python",
   "pygments_lexer": "ipython3",
   "version": 3
  },
  "orig_nbformat": 2,
  "kernelspec": {
   "name": "python_defaultSpec_1596565389676",
   "display_name": "Python 3.7.3 64-bit ('venv': venv)"
  }
 },
 "nbformat": 4,
 "nbformat_minor": 2,
 "cells": [
  {
   "cell_type": "markdown",
   "metadata": {},
   "source": [
    "## Prediction of candidates who took the Enem 2016 as simulated "
   ]
  },
  {
   "cell_type": "markdown",
   "metadata": {},
   "source": [
    "### Importing libs"
   ]
  },
  {
   "cell_type": "code",
   "execution_count": 53,
   "metadata": {},
   "outputs": [],
   "source": [
    "import pandas as pd\n",
    "import numpy as np\n",
    "\n",
    "\n",
    "from sklearn.pipeline import Pipeline\n",
    "from sklearn.feature_selection import RFE\n",
    "from sklearn.ensemble import RandomForestClassifier\n",
    "from sklearn.model_selection import cross_val_score\n",
    "from sklearn.model_selection import RepeatedStratifiedKFold"
   ]
  },
  {
   "cell_type": "markdown",
   "metadata": {},
   "source": [
    "### Loading database"
   ]
  },
  {
   "cell_type": "code",
   "execution_count": 108,
   "metadata": {},
   "outputs": [],
   "source": [
    "\n",
    "df_test = pd.read_csv('test.csv')\n",
    "df_train = pd.read_csv('train.csv')\n"
   ]
  },
  {
   "cell_type": "markdown",
   "metadata": {},
   "source": [
    "### Exploratory data analysis"
   ]
  },
  {
   "cell_type": "markdown",
   "metadata": {},
   "source": [
    "#### Do datasets have the same number of columns?"
   ]
  },
  {
   "cell_type": "code",
   "execution_count": 109,
   "metadata": {},
   "outputs": [
    {
     "output_type": "execute_result",
     "data": {
      "text/plain": "False"
     },
     "metadata": {},
     "execution_count": 109
    }
   ],
   "source": [
    "df_train.shape[1] == df_test.shape[1]"
   ]
  },
  {
   "cell_type": "code",
   "execution_count": 110,
   "metadata": {
    "tags": []
   },
   "outputs": [
    {
     "output_type": "stream",
     "name": "stdout",
     "text": "Index(['Unnamed: 0', 'NU_INSCRICAO', 'NU_ANO', 'CO_MUNICIPIO_RESIDENCIA',\n       'NO_MUNICIPIO_RESIDENCIA', 'CO_UF_RESIDENCIA', 'SG_UF_RESIDENCIA',\n       'NU_IDADE', 'TP_SEXO', 'TP_ESTADO_CIVIL',\n       ...\n       'Q041', 'Q042', 'Q043', 'Q044', 'Q045', 'Q046', 'Q047', 'Q048', 'Q049',\n       'Q050'],\n      dtype='object', length=167)\nIndex(['NU_INSCRICAO', 'CO_UF_RESIDENCIA', 'SG_UF_RESIDENCIA', 'NU_IDADE',\n       'TP_SEXO', 'TP_COR_RACA', 'TP_NACIONALIDADE', 'TP_ST_CONCLUSAO',\n       'TP_ANO_CONCLUIU', 'TP_ESCOLA', 'TP_ENSINO', 'TP_DEPENDENCIA_ADM_ESC',\n       'IN_BAIXA_VISAO', 'IN_CEGUEIRA', 'IN_SURDEZ', 'IN_DISLEXIA',\n       'IN_DISCALCULIA', 'IN_SABATISTA', 'IN_GESTANTE', 'IN_IDOSO',\n       'TP_PRESENCA_CN', 'TP_PRESENCA_CH', 'TP_PRESENCA_LC', 'TP_PRESENCA_MT',\n       'NU_NOTA_CN', 'NU_NOTA_CH', 'NU_NOTA_LC', 'TP_LINGUA',\n       'TP_STATUS_REDACAO', 'NU_NOTA_COMP1', 'NU_NOTA_COMP2', 'NU_NOTA_COMP3',\n       'NU_NOTA_COMP4', 'NU_NOTA_COMP5', 'NU_NOTA_REDACAO', 'Q001', 'Q002',\n       'Q006', 'Q024', 'Q025', 'Q026', 'Q027', 'Q047'],\n      dtype='object')\n"
    }
   ],
   "source": [
    "print(df_train.columns)\n",
    "print(df_test.columns)"
   ]
  },
  {
   "cell_type": "code",
   "execution_count": 111,
   "metadata": {},
   "outputs": [],
   "source": [
    "df_train = df_train[['IN_TREINEIRO'] + df_test.columns.to_list()]"
   ]
  },
  {
   "cell_type": "code",
   "execution_count": 112,
   "metadata": {},
   "outputs": [
    {
     "output_type": "execute_result",
     "data": {
      "text/plain": "Index(['IN_TREINEIRO', 'NU_INSCRICAO', 'CO_UF_RESIDENCIA', 'SG_UF_RESIDENCIA',\n       'NU_IDADE', 'TP_SEXO', 'TP_COR_RACA', 'TP_NACIONALIDADE',\n       'TP_ST_CONCLUSAO', 'TP_ANO_CONCLUIU', 'TP_ESCOLA', 'TP_ENSINO',\n       'TP_DEPENDENCIA_ADM_ESC', 'IN_BAIXA_VISAO', 'IN_CEGUEIRA', 'IN_SURDEZ',\n       'IN_DISLEXIA', 'IN_DISCALCULIA', 'IN_SABATISTA', 'IN_GESTANTE',\n       'IN_IDOSO', 'TP_PRESENCA_CN', 'TP_PRESENCA_CH', 'TP_PRESENCA_LC',\n       'TP_PRESENCA_MT', 'NU_NOTA_CN', 'NU_NOTA_CH', 'NU_NOTA_LC', 'TP_LINGUA',\n       'TP_STATUS_REDACAO', 'NU_NOTA_COMP1', 'NU_NOTA_COMP2', 'NU_NOTA_COMP3',\n       'NU_NOTA_COMP4', 'NU_NOTA_COMP5', 'NU_NOTA_REDACAO', 'Q001', 'Q002',\n       'Q006', 'Q024', 'Q025', 'Q026', 'Q027', 'Q047'],\n      dtype='object')"
     },
     "metadata": {},
     "execution_count": 112
    }
   ],
   "source": [
    "df_train.columns"
   ]
  },
  {
   "cell_type": "markdown",
   "metadata": {},
   "source": [
    "#### Checking data types"
   ]
  },
  {
   "cell_type": "code",
   "execution_count": 113,
   "metadata": {},
   "outputs": [
    {
     "output_type": "execute_result",
     "data": {
      "text/plain": "IN_TREINEIRO                int64\nNU_INSCRICAO               object\nCO_UF_RESIDENCIA            int64\nSG_UF_RESIDENCIA           object\nNU_IDADE                    int64\nTP_SEXO                    object\nTP_COR_RACA                 int64\nTP_NACIONALIDADE            int64\nTP_ST_CONCLUSAO             int64\nTP_ANO_CONCLUIU             int64\nTP_ESCOLA                   int64\nTP_ENSINO                 float64\nTP_DEPENDENCIA_ADM_ESC    float64\nIN_BAIXA_VISAO              int64\nIN_CEGUEIRA                 int64\nIN_SURDEZ                   int64\nIN_DISLEXIA                 int64\nIN_DISCALCULIA              int64\nIN_SABATISTA                int64\nIN_GESTANTE                 int64\nIN_IDOSO                    int64\nTP_PRESENCA_CN              int64\nTP_PRESENCA_CH              int64\nTP_PRESENCA_LC              int64\nTP_PRESENCA_MT              int64\nNU_NOTA_CN                float64\nNU_NOTA_CH                float64\nNU_NOTA_LC                float64\nTP_LINGUA                   int64\nTP_STATUS_REDACAO         float64\nNU_NOTA_COMP1             float64\nNU_NOTA_COMP2             float64\nNU_NOTA_COMP3             float64\nNU_NOTA_COMP4             float64\nNU_NOTA_COMP5             float64\nNU_NOTA_REDACAO           float64\nQ001                       object\nQ002                       object\nQ006                       object\nQ024                       object\nQ025                       object\nQ026                       object\nQ027                       object\nQ047                       object\ndtype: object"
     },
     "metadata": {},
     "execution_count": 113
    }
   ],
   "source": [
    "df_train.dtypes"
   ]
  },
  {
   "cell_type": "markdown",
   "metadata": {},
   "source": [
    "##### Removing the registration number"
   ]
  },
  {
   "cell_type": "code",
   "execution_count": 114,
   "metadata": {},
   "outputs": [],
   "source": [
    "df_train = df_train.drop(columns='NU_INSCRICAO')"
   ]
  },
  {
   "cell_type": "markdown",
   "metadata": {},
   "source": [
    "#### Checking missing values in descending order"
   ]
  },
  {
   "cell_type": "code",
   "execution_count": 101,
   "metadata": {},
   "outputs": [
    {
     "output_type": "execute_result",
     "data": {
      "text/plain": "TP_DEPENDENCIA_ADM_ESC    9448\nTP_ENSINO                 9448\nQ027                      7373\nNU_NOTA_COMP1             3597\nNU_NOTA_COMP5             3597\nTP_STATUS_REDACAO         3597\nNU_NOTA_COMP2             3597\nNU_NOTA_COMP3             3597\nNU_NOTA_COMP4             3597\nNU_NOTA_REDACAO           3597\nNU_NOTA_LC                3597\nNU_NOTA_CH                3389\nNU_NOTA_CN                3389\nTP_ESCOLA                    0\nIN_BAIXA_VISAO               0\nTP_ANO_CONCLUIU              0\nIN_CEGUEIRA                  0\ndtype: int64"
     },
     "metadata": {},
     "execution_count": 101
    }
   ],
   "source": [
    "df_train.isna().sum().sort_values(ascending=False).head(17)"
   ]
  },
  {
   "cell_type": "code",
   "execution_count": 102,
   "metadata": {},
   "outputs": [],
   "source": [
    "def get_numeric_columns(df):\n",
    "    \n",
    "    \"\"\" Return int and float columns from pd.DataFrame \"\"\"\n",
    "    return df.select_dtypes('int64', 'float64').columns\n",
    "\n",
    "\n",
    "# imputing missing values with the mean\n",
    "df_train[get_numeric_columns(df_train)] = df_train[get_numeric_columns(df_train)].fillna(df_train[get_numeric_columns(df_train)].mean())"
   ]
  },
  {
   "cell_type": "markdown",
   "metadata": {},
   "source": [
    "#### Checking the balance of classes"
   ]
  },
  {
   "cell_type": "code",
   "execution_count": 115,
   "metadata": {},
   "outputs": [
    {
     "output_type": "execute_result",
     "data": {
      "text/plain": "IN_TREINEIRO                 2\nCO_UF_RESIDENCIA            27\nSG_UF_RESIDENCIA            27\nNU_IDADE                    55\nTP_SEXO                      2\nTP_COR_RACA                  6\nTP_NACIONALIDADE             5\nTP_ST_CONCLUSAO              4\nTP_ANO_CONCLUIU             11\nTP_ESCOLA                    4\nTP_ENSINO                    3\nTP_DEPENDENCIA_ADM_ESC       4\nIN_BAIXA_VISAO               2\nIN_CEGUEIRA                  1\nIN_SURDEZ                    2\nIN_DISLEXIA                  2\nIN_DISCALCULIA               2\nIN_SABATISTA                 2\nIN_GESTANTE                  2\nIN_IDOSO                     2\nTP_PRESENCA_CN               3\nTP_PRESENCA_CH               3\nTP_PRESENCA_LC               3\nTP_PRESENCA_MT               3\nNU_NOTA_CN                2692\nNU_NOTA_CH                2978\nNU_NOTA_LC                2774\nTP_LINGUA                    2\nTP_STATUS_REDACAO            9\nNU_NOTA_COMP1               15\nNU_NOTA_COMP2               13\nNU_NOTA_COMP3               12\nNU_NOTA_COMP4               14\nNU_NOTA_COMP5               14\nNU_NOTA_REDACAO             53\nQ001                         8\nQ002                         8\nQ006                        17\nQ024                         5\nQ025                         2\nQ026                         3\nQ027                        13\nQ047                         5\ndtype: int64"
     },
     "metadata": {},
     "execution_count": 115
    }
   ],
   "source": [
    "df_train.nunique()"
   ]
  },
  {
   "cell_type": "code",
   "execution_count": 118,
   "metadata": {},
   "outputs": [
    {
     "output_type": "execute_result",
     "data": {
      "text/plain": "0    11947\n1     1783\nName: IN_TREINEIRO, dtype: int64"
     },
     "metadata": {},
     "execution_count": 118
    }
   ],
   "source": [
    "df_train['IN_TREINEIRO'].value_counts()"
   ]
  },
  {
   "cell_type": "code",
   "execution_count": 119,
   "metadata": {},
   "outputs": [
    {
     "output_type": "execute_result",
     "data": {
      "text/plain": "17    2630\n18    2278\n19    1455\n20    1036\n16    1018\n21     757\n22     600\n23     496\n24     387\n25     342\n15     272\n26     241\n27     235\n29     193\n28     177\n30     147\n31     143\n32     136\n34     116\n35     115\n33     114\n36      87\n37      84\n40      72\n38      69\n39      67\n41      47\n42      44\n44      36\n48      36\n45      34\n47      34\n43      34\n46      31\n51      21\n50      21\n14      21\n54      17\n52      17\n53      12\n49      11\n57       8\n56       8\n61       5\n65       4\n58       4\n59       4\n62       3\n66       3\n55       3\n64       1\n60       1\n13       1\n63       1\n67       1\nName: NU_IDADE, dtype: int64"
     },
     "metadata": {},
     "execution_count": 119
    }
   ],
   "source": [
    "df_train['NU_IDADE'].value_counts().sort_values(ascending=False)"
   ]
  },
  {
   "cell_type": "markdown",
   "metadata": {},
   "source": [
    "## Feature Selection and Model Building"
   ]
  },
  {
   "cell_type": "code",
   "execution_count": 103,
   "metadata": {},
   "outputs": [],
   "source": [
    "X = df_train[get_numeric_columns(df_train.drop(columns='IN_TREINEIRO'))]\n",
    "y = df_train['IN_TREINEIRO']\n"
   ]
  },
  {
   "cell_type": "code",
   "execution_count": 104,
   "metadata": {
    "tags": []
   },
   "outputs": [
    {
     "output_type": "stream",
     "name": "stdout",
     "text": "Accuracy: 0.988 (0.004)\n"
    }
   ],
   "source": [
    "# using model Random Forest Classifier\n",
    "model = RandomForestClassifier(n_estimators = 200, random_state= 42, n_jobs = -1)\n",
    "\n",
    "# Use RFE to select the most important features\n",
    "rfe = RFE(estimator=model, n_features_to_select=2)\n",
    "# create pipeline\n",
    "pipeline = Pipeline(steps=[('s',rfe),('m',model)])\n",
    "\n",
    "# evaluate model\n",
    "# validator with different randomization in each repetition.\n",
    "cv = RepeatedStratifiedKFold(n_splits=10, n_repeats=3, random_state=1)\n",
    "# Evaluating a score with F1-Score\n",
    "n_scores = cross_val_score(pipeline, X, y, scoring='f1', cv=cv, n_jobs=-1, error_score='raise')\n",
    "# fit the model on all available data\n",
    "pipeline.fit(X, y)\n",
    "# report performance\n",
    "print('Accuracy: %.3f (%.3f)' % (n_scores.mean(), n_scores.std()))\n"
   ]
  },
  {
   "cell_type": "markdown",
   "metadata": {},
   "source": [
    "### Build model using unprocessed data for comparison"
   ]
  },
  {
   "cell_type": "code",
   "execution_count": 105,
   "metadata": {},
   "outputs": [],
   "source": [
    "df_answer = pd.DataFrame()\n",
    "df_answer[ID] = df_test['NU_INSCRICAO']\n",
    "\n",
    "\n",
    "\n",
    "df_test = df_test[get_numeric_columns(df_test)].fillna(df_test[get_numeric_columns(df_test)].mean())\n",
    "\n",
    "yhat = pipeline.predict(df_test)\n",
    "\n",
    "df_answer['IN_TREINEIRO'] = list(yhat)\n",
    "\n",
    "#df_answer.head()\n",
    "# yhat"
   ]
  },
  {
   "cell_type": "markdown",
   "metadata": {},
   "source": [
    "### Exporting results"
   ]
  },
  {
   "cell_type": "code",
   "execution_count": 107,
   "metadata": {},
   "outputs": [],
   "source": [
    "df_answer.to_csv('answer.csv', index=False)"
   ]
  }
 ]
}